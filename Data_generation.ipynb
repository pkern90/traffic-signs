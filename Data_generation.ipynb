{
 "cells": [
  {
   "cell_type": "code",
   "execution_count": 96,
   "metadata": {
    "collapsed": false
   },
   "outputs": [],
   "source": [
    "import pickle\n",
    "import os\n",
    "import numpy as np\n",
    "import matplotlib.pyplot as plt\n",
    "from keras.preprocessing.image import ImageDataGenerator\n",
    "\n",
    "%matplotlib inline"
   ]
  },
  {
   "cell_type": "code",
   "execution_count": 97,
   "metadata": {
    "collapsed": true
   },
   "outputs": [],
   "source": [
    "def plot_signs(images, labels=None, rows=2, cols=4, rnd=True):\n",
    "\n",
    "    nimg = rows*cols\n",
    "    if rnd:\n",
    "        selection = np.random.choice(images.shape[0], nimg, replace=False)\n",
    "    else:\n",
    "        selection = range(nimg)\n",
    "        \n",
    "    images_to_show = images[selection]\n",
    "    \n",
    "    f, axarr = plt.subplots(rows, cols, figsize=(12, 3*rows))\n",
    "    for row in range(rows):\n",
    "        for col in range(cols):\n",
    "            index = (row*cols)+col\n",
    "            ax = axarr[row,col]  if rows > 1 else axarr[col] \n",
    "            ax.imshow(images_to_show[index])\n",
    "            ax.axis('off')\n",
    "            \n",
    "            if labels is not None:\n",
    "                label_id = labels[selection][index]\n",
    "                ax.set_title('%s - %s' % (label_id, signnames[label_id]), fontsize=8)"
   ]
  },
  {
   "cell_type": "code",
   "execution_count": 98,
   "metadata": {
    "collapsed": true
   },
   "outputs": [],
   "source": [
    "def normalize(images, newMax=1., newMin=0., oldMax=255, oldMin=0):\n",
    "    images = images.astype('float32')\n",
    "    return (images - oldMin) * ((newMax - newMin)/(oldMax - oldMin)) + newMin"
   ]
  },
  {
   "cell_type": "code",
   "execution_count": 99,
   "metadata": {
    "collapsed": false
   },
   "outputs": [],
   "source": [
    "training_file = 'data/train.p'\n",
    "\n",
    "with open(training_file, mode='rb') as f:\n",
    "    train = pickle.load(f)\n",
    "    \n",
    "X_train, y_train = train['features'], train['labels']\n",
    "X_train = normalize(X_train)"
   ]
  },
  {
   "cell_type": "code",
   "execution_count": 100,
   "metadata": {
    "collapsed": true
   },
   "outputs": [],
   "source": [
    "rotation = 20\n",
    "trans_range = 0.2\n",
    "channel_shift = 0.05\n",
    "datagen = ImageDataGenerator(rotation_range=rotation,                           \n",
    "                             channel_shift_range=channel_shift,\n",
    "                             shear_range=trans_range,\n",
    "                             zoom_range=trans_range,\n",
    "                             width_shift_range=trans_range,\n",
    "                             height_shift_range=trans_range,\n",
    "                             fill_mode='nearest')\n",
    "\n",
    "datagen.fit(X_train)"
   ]
  },
  {
   "cell_type": "code",
   "execution_count": 101,
   "metadata": {
    "collapsed": false
   },
   "outputs": [],
   "source": [
    "batch_size = X_train.shape[0]\n",
    "nb_transoformations = 4\n",
    "\n",
    "for i, (X_batch, y_batch) in enumerate(datagen.flow(X_train, y_train, batch_size=batch_size)):       \n",
    "    if i == nb_transoformations:\n",
    "        break\n",
    "    \n",
    "    with open('data/train_jittered_%s.p' % i, 'ab') as f:\n",
    "        pickle.dump({'features':X_batch, 'labels':y_batch}, f)"
   ]
  }
 ],
 "metadata": {
  "kernelspec": {
   "display_name": "Python [conda env:tensorflow]",
   "language": "python",
   "name": "conda-env-tensorflow-py"
  },
  "language_info": {
   "codemirror_mode": {
    "name": "ipython",
    "version": 3
   },
   "file_extension": ".py",
   "mimetype": "text/x-python",
   "name": "python",
   "nbconvert_exporter": "python",
   "pygments_lexer": "ipython3",
   "version": "3.5.2"
  }
 },
 "nbformat": 4,
 "nbformat_minor": 1
}
